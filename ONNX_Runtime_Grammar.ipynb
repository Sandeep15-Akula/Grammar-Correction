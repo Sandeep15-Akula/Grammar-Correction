{
  "nbformat": 4,
  "nbformat_minor": 0,
  "metadata": {
    "colab": {
      "name": "ONNX_Runtime_Grammar.ipynb",
      "provenance": [],
      "collapsed_sections": []
    },
    "kernelspec": {
      "name": "python3",
      "display_name": "Python 3"
    },
    "language_info": {
      "name": "python"
    }
  },
  "cells": [
    {
      "cell_type": "code",
      "execution_count": null,
      "metadata": {
        "id": "eJ_7nZCssK-i"
      },
      "outputs": [],
      "source": [
        "from fastT5 import get_onnx_model, get_onnx_runtime_sessions, OnnxT5\n",
        "from transformers import AutoTokenizer\n",
        "\n",
        "def correct(input):\n",
        "  trained_model_path = \"/content/drive/MyDrive/Grammar_Correction/models\"                         #Path to onnx models\n",
        "\n",
        "  encoder_path = trained_model_path+\"/grammar_error_correcter_v1-encoder-quantized.onnx\"\n",
        "  decoder_path = trained_model_path+\"/grammar_error_correcter_v1-decoder-quantized.onnx\"\n",
        "  init_decoder_path = trained_model_path+\"/grammar_error_correcter_v1-init-decoder-quantized.onnx\"\n",
        "\n",
        "  model_paths = encoder_path,decoder_path,init_decoder_path\n",
        "  model_sessions = get_onnx_runtime_sessions(model_paths)\n",
        "  model = OnnxT5(trained_model_path,model_sessions)\n",
        "\n",
        "  tokenizer = AutoTokenizer.from_pretrained(trained_model_path)\n",
        "\n",
        "  prompt = 'gec:' + input\n",
        "  token = tokenizer(prompt, return_tensors='pt')\n",
        "  tokens = model.generate(input_ids=token['input_ids'],\n",
        "               attention_mask=token['attention_mask'],\n",
        "               num_beams=2)\n",
        "\n",
        "  output = tokenizer.decode(tokens.squeeze(), skip_special_tokens=True)\n",
        "  return output"
      ]
    },
    {
      "cell_type": "code",
      "source": [
        "print(correct(\"I name is Sandeep\"))"
      ],
      "metadata": {
        "id": "GRCtzNs-sW8N"
      },
      "execution_count": null,
      "outputs": []
    }
  ]
}